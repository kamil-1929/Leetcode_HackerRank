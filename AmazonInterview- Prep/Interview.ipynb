{
 "cells": [
  {
   "cell_type": "markdown",
   "metadata": {},
   "source": [
    "1. Find Duplicate Files in a Directory (Python)"
   ]
  },
  {
   "cell_type": "code",
   "execution_count": null,
   "metadata": {},
   "outputs": [],
   "source": [
    "import os \n",
    "import hashlib \n",
    "from collections import defaultdict\n",
    "\n",
    "def hash_file(file_path):\n",
    "    hasher = hashlib.md5()\n",
    "    with open(file_path, 'rb') as f:\n",
    "        buf = f.read()\n",
    "        hasher.update(buf)\n",
    "    return hasher.hexdigest()\n",
    "\n",
    "def find_duplicates(directory):\n",
    "    hashes = defaultdict(list)\n",
    "    for dirpath, _, filenames in os.walk(directory):\n",
    "        for filename in filenames:\n",
    "            full_path = os.path.join(dirpath, filename)\n",
    "            file_hash = hash_file(full_path)\n",
    "            hashes[file_hash].append(full_path)\n",
    "    \n",
    "    for files in hashes.values():\n",
    "        if len(files) > 1:\n",
    "            print(\"Duplicate files found\")\n",
    "            for file in files:\n",
    "                print(file)\n",
    "            print()\n",
    "            \n",
    "\n"
   ]
  },
  {
   "cell_type": "code",
   "execution_count": 5,
   "metadata": {},
   "outputs": [
    {
     "name": "stdout",
     "output_type": "stream",
     "text": [
      "Duplicate files found\n",
      "./.git\\logs\\HEAD\n",
      "./.git\\logs\\refs\\heads\\main\n",
      "\n",
      "Duplicate files found\n",
      "./.git\\refs\\heads\\main\n",
      "./.git\\refs\\remotes\\origin\\main\n",
      "\n"
     ]
    }
   ],
   "source": [
    "find_duplicates(\"./\")"
   ]
  },
  {
   "cell_type": "markdown",
   "metadata": {},
   "source": [
    " 2. Parse Log File and Extract Errors (Shell)"
   ]
  },
  {
   "cell_type": "code",
   "execution_count": 2,
   "metadata": {},
   "outputs": [],
   "source": [
    "def extract_errors(log_file, output_file):\n",
    "    with open(log_file, 'r') as infile, open(output_file, 'w') as outfile:\n",
    "        for line in infile:\n",
    "            if \"ERROR\" in line.upper():\n",
    "                outfile.write(line)\n",
    "\n"
   ]
  },
  {
   "cell_type": "code",
   "execution_count": 3,
   "metadata": {},
   "outputs": [],
   "source": [
    "extract_errors('application.log', 'error_output.log')"
   ]
  },
  {
   "cell_type": "markdown",
   "metadata": {},
   "source": [
    "Write a script to print the first non-repeating character in a string.\n",
    "\n",
    "Example Input: \"amazon\"\n",
    "Expected Output: \"m\""
   ]
  },
  {
   "cell_type": "code",
   "execution_count": 11,
   "metadata": {},
   "outputs": [
    {
     "name": "stdout",
     "output_type": "stream",
     "text": [
      "m\n"
     ]
    }
   ],
   "source": [
    "from collections import Counter\n",
    "\n",
    "def first_non_repeating_char(s):\n",
    "    freq = Counter(s)\n",
    "    for char in s:\n",
    "        if freq[char] == 1:\n",
    "            return char\n",
    "    return None\n",
    "\n",
    "print(first_non_repeating_char(\"amazon\"))"
   ]
  }
 ],
 "metadata": {
  "kernelspec": {
   "display_name": "Python 3",
   "language": "python",
   "name": "python3"
  },
  "language_info": {
   "codemirror_mode": {
    "name": "ipython",
    "version": 3
   },
   "file_extension": ".py",
   "mimetype": "text/x-python",
   "name": "python",
   "nbconvert_exporter": "python",
   "pygments_lexer": "ipython3",
   "version": "3.10.0"
  }
 },
 "nbformat": 4,
 "nbformat_minor": 2
}
